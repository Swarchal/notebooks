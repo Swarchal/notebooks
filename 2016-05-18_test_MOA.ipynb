{
 "cells": [
  {
   "cell_type": "markdown",
   "metadata": {},
   "source": [
    "# Predicting MOA on Validation Screen Data\n",
    "\n",
    "Quick test to see if we can predict compound mechanism of action based on morphological features. This is using a [random forest classifier](https://en.wikipedia.org/wiki/Random_forest) without any optimisation, so the classification accuracies can definitely be improved with feature selection etc.\n",
    "\n",
    "## Load and tidy data"
   ]
  },
  {
   "cell_type": "code",
   "execution_count": 1,
   "metadata": {
    "collapsed": false
   },
   "outputs": [],
   "source": [
    "from __future__ import division, print_function\n",
    "import pandas as pd\n",
    "import numpy as np\n",
    "from sklearn.ensemble import RandomForestClassifier\n",
    "from sklearn.cross_validation import train_test_split\n",
    "from sklearn.metrics import confusion_matrix\n",
    "import matplotlib.pyplot as plt\n",
    "\n",
    "# matplotlib setup\n",
    "%matplotlib inline\n",
    "plt.style.use(\"bmh\")\n",
    "\n",
    "# load data\n",
    "url = \"https://dl.dropboxusercontent.com/u/79810285/df_cell_subclass.csv\"\n",
    "df = pd.read_csv(url)\n",
    "\n",
    "# remove DMSO rows from the data\n",
    "df = df[df.Metadata_compound != \"DMSO\"]"
   ]
  },
  {
   "cell_type": "markdown",
   "metadata": {},
   "source": [
    "## Compounds and MOA\n",
    "\n",
    "List of compounds and their mechanism of action:"
   ]
  },
  {
   "cell_type": "code",
   "execution_count": 24,
   "metadata": {
    "collapsed": false
   },
   "outputs": [
    {
     "data": {
      "text/html": [
       "<div>\n",
       "<table border=\"1\" class=\"dataframe\">\n",
       "  <thead>\n",
       "    <tr style=\"text-align: right;\">\n",
       "      <th></th>\n",
       "      <th>compound</th>\n",
       "      <th>MOA</th>\n",
       "    </tr>\n",
       "  </thead>\n",
       "  <tbody>\n",
       "    <tr>\n",
       "      <th>0</th>\n",
       "      <td>paclitaxel</td>\n",
       "      <td>microtubule disrupting</td>\n",
       "    </tr>\n",
       "    <tr>\n",
       "      <th>48</th>\n",
       "      <td>ARQ-621</td>\n",
       "      <td>microtubule disrupting</td>\n",
       "    </tr>\n",
       "    <tr>\n",
       "      <th>50</th>\n",
       "      <td>nocodazole</td>\n",
       "      <td>microtubule disrupting</td>\n",
       "    </tr>\n",
       "    <tr>\n",
       "      <th>51</th>\n",
       "      <td>monastrol</td>\n",
       "      <td>microtubule disrupting</td>\n",
       "    </tr>\n",
       "    <tr>\n",
       "      <th>192</th>\n",
       "      <td>barasertib</td>\n",
       "      <td>microtubule disrupting</td>\n",
       "    </tr>\n",
       "    <tr>\n",
       "      <th>193</th>\n",
       "      <td>ZM447439</td>\n",
       "      <td>microtubule disrupting</td>\n",
       "    </tr>\n",
       "    <tr>\n",
       "      <th>576</th>\n",
       "      <td>cytochalasin D</td>\n",
       "      <td>actin disrupting</td>\n",
       "    </tr>\n",
       "    <tr>\n",
       "      <th>624</th>\n",
       "      <td>cytochalasin B</td>\n",
       "      <td>actin disrupting</td>\n",
       "    </tr>\n",
       "    <tr>\n",
       "      <th>625</th>\n",
       "      <td>lantrunculin-B</td>\n",
       "      <td>actin disrupting</td>\n",
       "    </tr>\n",
       "    <tr>\n",
       "      <th>631</th>\n",
       "      <td>jaksplakinolide</td>\n",
       "      <td>actin disrupting</td>\n",
       "    </tr>\n",
       "    <tr>\n",
       "      <th>956</th>\n",
       "      <td>ALLM</td>\n",
       "      <td>protein degradation</td>\n",
       "    </tr>\n",
       "    <tr>\n",
       "      <th>1004</th>\n",
       "      <td>MG132</td>\n",
       "      <td>protein degradation</td>\n",
       "    </tr>\n",
       "    <tr>\n",
       "      <th>1005</th>\n",
       "      <td>ALLN</td>\n",
       "      <td>protein degradation</td>\n",
       "    </tr>\n",
       "    <tr>\n",
       "      <th>1006</th>\n",
       "      <td>lactacystin</td>\n",
       "      <td>protein degradation</td>\n",
       "    </tr>\n",
       "    <tr>\n",
       "      <th>1340</th>\n",
       "      <td>emetine</td>\n",
       "      <td>protein synthesis</td>\n",
       "    </tr>\n",
       "    <tr>\n",
       "      <th>1342</th>\n",
       "      <td>cycloheximide</td>\n",
       "      <td>protein synthesis</td>\n",
       "    </tr>\n",
       "    <tr>\n",
       "      <th>1532</th>\n",
       "      <td>dasatinib</td>\n",
       "      <td>kinase inhibitors</td>\n",
       "    </tr>\n",
       "    <tr>\n",
       "      <th>1533</th>\n",
       "      <td>saracatinib</td>\n",
       "      <td>kinase inhibitors</td>\n",
       "    </tr>\n",
       "    <tr>\n",
       "      <th>1724</th>\n",
       "      <td>simvastatin</td>\n",
       "      <td>statins</td>\n",
       "    </tr>\n",
       "    <tr>\n",
       "      <th>1772</th>\n",
       "      <td>lovastatin</td>\n",
       "      <td>statins</td>\n",
       "    </tr>\n",
       "    <tr>\n",
       "      <th>1916</th>\n",
       "      <td>camptothecin</td>\n",
       "      <td>DNA damaging agent</td>\n",
       "    </tr>\n",
       "    <tr>\n",
       "      <th>1917</th>\n",
       "      <td>sn38</td>\n",
       "      <td>DNA damaging agent</td>\n",
       "    </tr>\n",
       "    <tr>\n",
       "      <th>2108</th>\n",
       "      <td>STS</td>\n",
       "      <td>STS</td>\n",
       "    </tr>\n",
       "  </tbody>\n",
       "</table>\n",
       "</div>"
      ],
      "text/plain": [
       "             compound                     MOA\n",
       "0          paclitaxel  microtubule disrupting\n",
       "48            ARQ-621  microtubule disrupting\n",
       "50         nocodazole  microtubule disrupting\n",
       "51          monastrol  microtubule disrupting\n",
       "192        barasertib  microtubule disrupting\n",
       "193          ZM447439  microtubule disrupting\n",
       "576    cytochalasin D        actin disrupting\n",
       "624    cytochalasin B        actin disrupting\n",
       "625    lantrunculin-B        actin disrupting\n",
       "631   jaksplakinolide        actin disrupting\n",
       "956              ALLM     protein degradation\n",
       "1004            MG132     protein degradation\n",
       "1005             ALLN     protein degradation\n",
       "1006      lactacystin     protein degradation\n",
       "1340          emetine       protein synthesis\n",
       "1342    cycloheximide       protein synthesis\n",
       "1532        dasatinib       kinase inhibitors\n",
       "1533      saracatinib       kinase inhibitors\n",
       "1724      simvastatin                 statins\n",
       "1772       lovastatin                 statins\n",
       "1916     camptothecin      DNA damaging agent\n",
       "1917             sn38      DNA damaging agent\n",
       "2108              STS                     STS"
      ]
     },
     "execution_count": 24,
     "metadata": {},
     "output_type": "execute_result"
    }
   ],
   "source": [
    "compound = list(df[\"Metadata_compound\"])\n",
    "MOA = list(df[\"Metadata_compoundClass\"])\n",
    "pd.DataFrame(zip(compound, MOA), columns = [\"compound\", \"MOA\"]).drop_duplicates()"
   ]
  },
  {
   "cell_type": "markdown",
   "metadata": {},
   "source": [
    "### Separate into measurements and MOA labels\n",
    "\n",
    "For the classification tasks, I need to create two arrays, one of the feature data, and the other as the MOA coverted into integer labels"
   ]
  },
  {
   "cell_type": "code",
   "execution_count": 2,
   "metadata": {
    "collapsed": false
   },
   "outputs": [],
   "source": [
    "# MOA labels\n",
    "feature_names = df['Metadata_compoundClass']\n",
    "feature_labels = pd.Categorical(feature_names).codes\n",
    "\n",
    "# feature data\n",
    "feature_data = [col for col in list(df.columns) if not col.startswith(\"Metadata\")]\n",
    "feature_data = np.array(df[feature_data])"
   ]
  },
  {
   "cell_type": "markdown",
   "metadata": {},
   "source": [
    "Now we split the data into training and test sets, and train the random forest classifier on the training dataset. \n",
    "\n",
    "Then see how well we can predict the mechanism of action on the test data without any labels. We then compare the predicted labels to the actual labels that we have held back."
   ]
  },
  {
   "cell_type": "code",
   "execution_count": 3,
   "metadata": {
    "collapsed": false
   },
   "outputs": [],
   "source": [
    "# generate training and test datasets\n",
    "data_train, data_test, label_train, label_test = train_test_split(\n",
    "    feature_data,\n",
    "    feature_labels,\n",
    "    test_size=0.33)\n",
    "\n",
    "clf = RandomForestClassifier(n_estimators=200,\n",
    "                             n_jobs=-1,\n",
    "                             min_samples_split=3,\n",
    "                             max_features=None)\n",
    "clf.fit(data_train, label_train)\n",
    "predictions = clf.predict(data_test)\n",
    "\n",
    "correct = predictions == label_test\n",
    "perc_correct = sum(correct) / len(correct) * 100"
   ]
  },
  {
   "cell_type": "markdown",
   "metadata": {},
   "source": [
    "Now plot a confusion matrix so we can see which MOAs are well classified, and which are often mis-labelled."
   ]
  },
  {
   "cell_type": "code",
   "execution_count": 5,
   "metadata": {
    "collapsed": false
   },
   "outputs": [
    {
     "data": {
      "image/png": "[encoded data removed]",
      "text/plain": [
       "<matplotlib.figure.Figure at 0x9d5dc0ac>"
      ]
     },
     "metadata": {},
     "output_type": "display_data"
    }
   ],
   "source": [
    "def plot_confusion_matrix(cm, title='Confusion matrix', cmap=plt.cm.Blues):\n",
    "    \"Function to plot a confusion matrix\"\n",
    "    plt.imshow(cm, interpolation='nearest', cmap=cmap)\n",
    "    plt.title(title)\n",
    "    plt.colorbar()\n",
    "    plt.tight_layout()\n",
    "    tick_marks = np.arange(len(set(feature_names)))\n",
    "    plt.xticks(tick_marks, set(feature_names), rotation = 90)\n",
    "    plt.yticks(tick_marks, set(feature_names))\n",
    "    plt.ylabel('True label')\n",
    "    plt.xlabel('Predicted label')\n",
    "\n",
    "\n",
    "cm = confusion_matrix(label_test, predictions)\n",
    "# normalise the confusion matrix to account for different sized groups\n",
    "cm_norm = cm.astype(\"float\") / cm.sum(axis=1)[:, np.newaxis]\n",
    "\n",
    "plt.figure(figsize=(8,6))\n",
    "plot_confusion_matrix(cm_norm,\n",
    "                     title = \"Random Forest \\n Accuracy = %.1f\" %perc_correct)\n",
    "plt.show()\n"
   ]
  },
  {
   "cell_type": "markdown",
   "metadata": {},
   "source": [
    "# Separated by cell line\n",
    "\n",
    "Now we will try predicting mechanism of action on each cell line individually, see is there are any striking differences between the cell lines in our ability to predict MOA.\n",
    "\n",
    "Two possibilities:\n",
    "1. Classification accuracy will *increase* because the cell lines have slightly different responses to the compounds.\n",
    "2. Classification accuracy will *decrease* simply because there's 1/8th of the data to train an accurate model."
   ]
  },
  {
   "cell_type": "code",
   "execution_count": 10,
   "metadata": {
    "collapsed": false
   },
   "outputs": [],
   "source": [
    "# select just MDA-MB-231 data\n",
    "mda = df[df.Metadata_CellLine == \"MDA231\"]\n",
    "\n",
    "# MOA labels\n",
    "feature_names = mda['Metadata_compoundClass']\n",
    "feature_labels = pd.Categorical(feature_names).codes\n",
    "\n",
    "# feature data\n",
    "feature_data = [col for col in list(mda.columns) if not col.startswith(\"Metadata\")]\n",
    "feature_data = np.array(mda[feature_data])\n",
    "\n",
    "# generate training and test datasets\n",
    "data_train, data_test, label_train, label_test = train_test_split(\n",
    "    feature_data,\n",
    "    feature_labels,\n",
    "    test_size=0.33)\n",
    "\n",
    "# train classifier on training data and predict labels on test data\n",
    "clf = RandomForestClassifier(n_estimators=200, n_jobs=-1, min_samples_split=3, max_features=None)\n",
    "clf.fit(data_train, label_train)\n",
    "predictions = clf.predict(data_test)\n",
    "\n",
    "# determine prediction accuracy by comparing to known labels\n",
    "correct = predictions == label_test\n",
    "perc_correct = sum(correct) / len(correct) * 100"
   ]
  },
  {
   "cell_type": "code",
   "execution_count": 11,
   "metadata": {
    "collapsed": false
   },
   "outputs": [
    {
     "data": {
      "image/png": "[encoded data removed]",
      "text/plain": [
       "<matplotlib.figure.Figure at 0x9c01528c>"
      ]
     },
     "metadata": {},
     "output_type": "display_data"
    }
   ],
   "source": [
    "# create confusion matrix\n",
    "cm = confusion_matrix(label_test, predictions)\n",
    "# normalise the confusion matrix to account for different sized groups\n",
    "cm_norm = cm.astype(\"float\") / cm.sum(axis=1)[:, np.newaxis]\n",
    "# plot\n",
    "plt.figure(figsize=(8,6))\n",
    "plot_confusion_matrix(cm_norm,\n",
    "                     title = \"Random Forest MDA-MB-231 \\n Accuracy = %.1f\" %perc_correct)\n",
    "plt.show()\n"
   ]
  },
  {
   "cell_type": "markdown",
   "metadata": {},
   "source": [
    "For the MDA-MB-231 cell line we get an accuracy of 75-80%.\n",
    "\n",
    "## Bootstrapping the random forest\n",
    "\n",
    "Now let's try bootstrapping this 10 times to observe an average accuracy."
   ]
  },
  {
   "cell_type": "code",
   "execution_count": 12,
   "metadata": {
    "collapsed": false
   },
   "outputs": [
    {
     "name": "stdout",
     "output_type": "stream",
     "text": [
      "Average accuracy for MDA-MB-231 classification = 78.3 %\n"
     ]
    }
   ],
   "source": [
    "def bootstrap_rforest(n):\n",
    "    \"\"\"\n",
    "    Repeat random forest classification with\n",
    "    random sampling 'n' times\n",
    "    \"\"\"\n",
    "    accuracy = []\n",
    "\n",
    "    # create classifier\n",
    "    clf = RandomForestClassifier(n_estimators=200,\n",
    "                                 n_jobs=-1,\n",
    "                                 min_samples_split=3,\n",
    "                                 max_features=None)\n",
    "    \n",
    "    for i in range(0, n):\n",
    "        # split into training and test datasets \n",
    "        data_train, data_test, label_train, label_test = train_test_split(\n",
    "            feature_data,\n",
    "            feature_labels,\n",
    "            test_size=0.33)\n",
    "        \n",
    "        # predict MOA labels\n",
    "        clf.fit(data_train, label_train)\n",
    "        predictions = clf.predict(data_test)\n",
    "        # determine percentage of correctly labelled MOAs\n",
    "        correct = predictions == label_test\n",
    "        perc_correct = sum(correct) / len(correct) * 100\n",
    "        accuracy.append(perc_correct)\n",
    "        \n",
    "    return accuracy\n",
    "    \n",
    "out = bootstrap_rforest(10)\n",
    "\n",
    "print(\"Average accuracy for MDA-MB-231 classification = %.1f\" %np.mean(out), \"%\")"
   ]
  },
  {
   "cell_type": "markdown",
   "metadata": {
    "collapsed": true
   },
   "source": [
    "## Computing classification accuracy for each cell line\n",
    "\n",
    "Since we have 8 different cell lines, it would be interesting to know if there are any cell lines with particularly good or poor classification accuracy.\n",
    "\n",
    "So we will compute the bootstrapped random forest classification task for each cell line and compare."
   ]
  },
  {
   "cell_type": "code",
   "execution_count": 13,
   "metadata": {
    "collapsed": false
   },
   "outputs": [],
   "source": [
    "# this is going to take a bit of setting up\n",
    "\n",
    "def subset_cell_line(cell_line, data = df, col = \"Metadata_CellLine\"):\n",
    "    \"\"\"\n",
    "    subset a given dataframe to contain\n",
    "    data only from a single cell line\n",
    "    \"\"\"\n",
    "    return data[data[col] == cell_line]\n",
    "\n",
    "\n",
    "def split_data(data, moa_col=\"Metadata_compoundClass\"):\n",
    "    \"\"\"\n",
    "    split data into features and labels\n",
    "    returns: two arrays:\n",
    "    1: data\n",
    "    2: labels\n",
    "    \"\"\"\n",
    "    # feature labels\n",
    "    feature_names = data['Metadata_compoundClass']\n",
    "    feature_labels = pd.Categorical(feature_names).codes\n",
    "    # feature data\n",
    "    feature_data = [col for col in list(data.columns) if not col.startswith(\"Metadata\")]\n",
    "    feature_data = np.array(data[feature_data])\n",
    "    return [feature_data, feature_labels]\n",
    "    \n",
    "\n",
    "\n",
    "def train_r_forest(X, Y, n_estimators):\n",
    "    \"\"\"\n",
    "    train a random forest classifier for a given array (X) and labels (Y).\n",
    "    Returns the percentage classification accuracy\n",
    "    \"\"\"\n",
    "    # split into training and test datasets\n",
    "    d_train, d_test, l_train, l_test = train_test_split(X, Y, test_size=0.33)\n",
    "    # create classifier\n",
    "    clf = RandomForestClassifier(n_estimators,\n",
    "                                 n_jobs=-1,\n",
    "                                 max_features=None,\n",
    "                                 min_samples_split=3)\n",
    "    # train model on training data\n",
    "    clf.fit(d_train, l_train)\n",
    "    # test model on test data\n",
    "    predictions = clf.predict(d_test)\n",
    "    # determine accuracy of predictions\n",
    "    correct = predictions == l_test\n",
    "    perc_correct = sum(correct) / len(correct) * 100\n",
    "    return perc_correct\n",
    "    \n",
    "    \n",
    "def bootstrap_forest(X, Y,  n_sample=10, n_estimators=200):\n",
    "    \"\"\"\n",
    "    Bootstrap random forest classification and\n",
    "    return average classification accuracy\n",
    "    \"\"\"\n",
    "    pred_accuracy = []\n",
    "    for i in range(0, n_sample):\n",
    "        acc_out = train_r_forest(X, Y, n_estimators)\n",
    "        pred_accuracy.append(acc_out)\n",
    "    return np.mean(pred_accuracy)\n",
    "\n",
    "\n",
    "def main(cell_line):\n",
    "    data = subset_cell_line(cell_line)\n",
    "    X, Y = split_data(data)\n",
    "    accuracy = bootstrap_forest(X, Y)\n",
    "    return (cell_line, accuracy)"
   ]
  },
  {
   "cell_type": "code",
   "execution_count": 14,
   "metadata": {
    "collapsed": false
   },
   "outputs": [],
   "source": [
    "cell_lines = list(set(df.Metadata_CellLine))\n",
    "accuracy_out = [main(cl) for cl in cell_lines]"
   ]
  },
  {
   "cell_type": "code",
   "execution_count": 15,
   "metadata": {
    "collapsed": false
   },
   "outputs": [
    {
     "data": {
      "text/html": [
       "<div>\n",
       "<table border=\"1\" class=\"dataframe\">\n",
       "  <thead>\n",
       "    <tr style=\"text-align: right;\">\n",
       "      <th></th>\n",
       "      <th>cell line</th>\n",
       "      <th>MOA accuracy(%)</th>\n",
       "    </tr>\n",
       "  </thead>\n",
       "  <tbody>\n",
       "    <tr>\n",
       "      <th>0</th>\n",
       "      <td>HCC1954</td>\n",
       "      <td>69.696970</td>\n",
       "    </tr>\n",
       "    <tr>\n",
       "      <th>1</th>\n",
       "      <td>SKBR3</td>\n",
       "      <td>68.759494</td>\n",
       "    </tr>\n",
       "    <tr>\n",
       "      <th>2</th>\n",
       "      <td>MCF7</td>\n",
       "      <td>75.000000</td>\n",
       "    </tr>\n",
       "    <tr>\n",
       "      <th>3</th>\n",
       "      <td>KPL4</td>\n",
       "      <td>71.388889</td>\n",
       "    </tr>\n",
       "    <tr>\n",
       "      <th>4</th>\n",
       "      <td>T47D</td>\n",
       "      <td>73.493671</td>\n",
       "    </tr>\n",
       "    <tr>\n",
       "      <th>5</th>\n",
       "      <td>MDA231</td>\n",
       "      <td>78.406170</td>\n",
       "    </tr>\n",
       "    <tr>\n",
       "      <th>6</th>\n",
       "      <td>MDA157</td>\n",
       "      <td>66.056701</td>\n",
       "    </tr>\n",
       "    <tr>\n",
       "      <th>7</th>\n",
       "      <td>HCC1569</td>\n",
       "      <td>72.557545</td>\n",
       "    </tr>\n",
       "  </tbody>\n",
       "</table>\n",
       "</div>"
      ],
      "text/plain": [
       "  cell line  MOA accuracy(%)\n",
       "0   HCC1954        69.696970\n",
       "1     SKBR3        68.759494\n",
       "2      MCF7        75.000000\n",
       "3      KPL4        71.388889\n",
       "4      T47D        73.493671\n",
       "5    MDA231        78.406170\n",
       "6    MDA157        66.056701\n",
       "7   HCC1569        72.557545"
      ]
     },
     "execution_count": 15,
     "metadata": {},
     "output_type": "execute_result"
    }
   ],
   "source": [
    "pd.DataFrame(accuracy_out, columns= [\"cell line\", \"MOA accuracy(%)\"])"
   ]
  },
  {
   "cell_type": "markdown",
   "metadata": {},
   "source": [
    "We see that classification accuracy varies between 66-80% for the 8 cell lines. Interesting that MCF7 and MDA-MB-231 have the highest accuracy as these were the two cell lines that the CellProfiler feature extraction was optimised on. Makes me think that the classification accuracy is dependent on how accurately the morphological features are extracted for each cell line.\n",
    "\n",
    "## Are the average of individual cell lines accuracies greater than the accuracy of pooled cell lines?\n",
    "\n",
    "We know from before that the MOA classification accuracy of all the cell lines pooled together was ~70%."
   ]
  },
  {
   "cell_type": "code",
   "execution_count": 16,
   "metadata": {
    "collapsed": false
   },
   "outputs": [
    {
     "name": "stdout",
     "output_type": "stream",
     "text": [
      "Average MOA accuracy for individual cell lines = 71.9 %\n"
     ]
    }
   ],
   "source": [
    "indv_acc = np.mean([i[1] for i in accuracy_out])\n",
    "print(\"Average MOA accuracy for individual cell lines = %.1f\" %indv_acc, \"%\")"
   ]
  },
  {
   "cell_type": "markdown",
   "metadata": {},
   "source": [
    "There's a very slight increase (~2%) in average accuracy when the cell lines are separated from one another compared to when the classification task is carried out on the pooled data."
   ]
  },
  {
   "cell_type": "markdown",
   "metadata": {},
   "source": [
    "# Conclusion\n",
    "\n",
    "- As a first pass we can get some quite decent accuracy at predicting compound mechanism of action. It's likely that this can be improved by 10+% with some more work and optimisation.\n",
    "- Our accuracy at classifying compounds to MOAs is somewhat dependent on the cell lines, I think this is due to the feature extraction process being better/cleaner on some cell lines over others."
   ]
  }
 ],
 "metadata": {
  "kernelspec": {
   "display_name": "Python 2",
   "language": "python",
   "name": "python2"
  },
  "language_info": {
   "codemirror_mode": {
    "name": "ipython",
    "version": 2
   },
   "file_extension": ".py",
   "mimetype": "text/x-python",
   "name": "python",
   "nbconvert_exporter": "python",
   "pygments_lexer": "ipython2",
   "version": "2.7.6"
  }
 },
 "nbformat": 4,
 "nbformat_minor": 0
}

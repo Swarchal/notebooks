{
 "cells": [
  {
   "cell_type": "markdown",
   "metadata": {},
   "source": [
    "# GPU accelerated dose response curve fitting\n",
    "\n",
    "## Is this necessary?\n",
    "Not at all.\n",
    "\n",
    "## Is this useful?\n",
    "No, use `scipy.optimize.curve_fit`."
   ]
  },
  {
   "cell_type": "code",
   "execution_count": 1,
   "metadata": {},
   "outputs": [
    {
     "name": "stdout",
     "output_type": "stream",
     "text": [
      "00000, 4.4296\n",
      "10000, 2.4692\n",
      "20000, 1.2339\n",
      "30000, 0.5255\n",
      "40000, 0.3120\n",
      "50000, 0.1975\n",
      "60000, 0.1959\n",
      "70000, 0.1960\n",
      "80000, 0.1959\n",
      "90000, 0.1959\n",
      "46.561386 -46.50781 0.0025624454 1.4188955\n"
     ]
    }
   ],
   "source": [
    "import torch\n",
    "import torch.nn.functional as F\n",
    "import pandas as pd\n",
    "import numpy as np\n",
    "import matplotlib.pyplot as plt\n",
    "%matplotlib inline\n",
    "\n",
    "device = \"cuda\" if torch.cuda.is_available() else \"cpu\"\n",
    "\n",
    "def load_data():\n",
    "    df = pd.read_csv(\"./raw_data.csv\")\n",
    "    df = df.dropna(axis=0)\n",
    "    return df\n",
    "\n",
    "\n",
    "class DoseResponse(torch.nn.Module):\n",
    "    \"\"\"4 parameter dose response curve\"\"\"\n",
    "    def __init__(self):\n",
    "        super().__init__()\n",
    "        weights = torch.distributions.Uniform(0, 0.1).sample((4,))\n",
    "        self.weights = torch.nn.Parameter(weights)\n",
    "\n",
    "    def forward(self, x):\n",
    "        top, bottom, ec50, hill_slope = self.weights\n",
    "        return (top - bottom) / (1 + (x / ec50) ** hill_slope)\n",
    "\n",
    "\n",
    "def train(model, optimiser, n=100000):\n",
    "    losses = []\n",
    "    x = torch.tensor(df[\"dilution\"].values).to(device)\n",
    "    y = torch.tensor(df[\"percentage_infected\"].values).to(device)\n",
    "    for i in range(n):\n",
    "        preds = model(x)\n",
    "        loss = F.mse_loss(preds, y) / len(x)\n",
    "        if i % 10000 == 0:\n",
    "            print(f\"{i:05}, {loss.item():.4f}\")\n",
    "        loss.backward()\n",
    "        optimiser.step()\n",
    "        optimiser.zero_grad()\n",
    "        losses.append(loss)\n",
    "    return losses, model\n",
    "\n",
    "\n",
    "df = load_data()\n",
    "\n",
    "model = DoseResponse()\n",
    "model = model.to(device)\n",
    "optimiser = torch.optim.Adam(model.parameters(), lr=0.001)\n",
    "losses, fitted_model = train(model, optimiser)\n",
    "\n",
    "top, bottom, ec50, hill_slope = model.weights.data.numpy()\n",
    "print(top, bottom, ec50, hill_slope)"
   ]
  },
  {
   "cell_type": "code",
   "execution_count": 2,
   "metadata": {},
   "outputs": [
    {
     "data": {
      "image/png": "[encoded data removed]",
      "text/plain": [
       "<Figure size 576x432 with 1 Axes>"
      ]
     },
     "metadata": {
      "needs_background": "light"
     },
     "output_type": "display_data"
    }
   ],
   "source": [
    "concs = np.linspace(df[\"dilution\"].min(), df[\"dilution\"].max(), 10000)\n",
    "with torch.no_grad():\n",
    "    yhat = fitted_model(concs).data.numpy()\n",
    "    \n",
    "plt.figure(figsize=[8, 6])\n",
    "plt.scatter(df[\"dilution\"], df[\"percentage_infected\"], s=3, alpha=0.1, c=\"orange\", label=\"data\")\n",
    "plt.plot(concs, yhat, label=\"fitted model\")\n",
    "plt.legend()\n",
    "plt.xlabel(\"dilution\")\n",
    "plt.ylabel(\"% infected\")\n",
    "plt.xscale(\"log\")\n",
    "plt.show()"
   ]
  }
 ],
 "metadata": {
  "kernelspec": {
   "display_name": "pytorch_1.10",
   "language": "python",
   "name": "pytorch_1.10"
  },
  "language_info": {
   "codemirror_mode": {
    "name": "ipython",
    "version": 3
   },
   "file_extension": ".py",
   "mimetype": "text/x-python",
   "name": "python",
   "nbconvert_exporter": "python",
   "pygments_lexer": "ipython3",
   "version": "3.9.7"
  }
 },
 "nbformat": 4,
 "nbformat_minor": 4
}
